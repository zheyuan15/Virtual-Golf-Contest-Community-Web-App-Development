{
 "cells": [
  {
   "cell_type": "code",
   "execution_count": 1,
   "metadata": {
    "ExecuteTime": {
     "end_time": "2019-04-25T09:33:27.198904Z",
     "start_time": "2019-04-25T09:33:26.290097Z"
    }
   },
   "outputs": [],
   "source": [
    "import pandas as pd\n",
    "import numpy as np\n",
    "import math\n",
    "import pickle"
   ]
  },
  {
   "cell_type": "markdown",
   "metadata": {
    "ExecuteTime": {
     "end_time": "2019-04-25T09:14:49.705389Z",
     "start_time": "2019-04-25T09:14:49.701887Z"
    }
   },
   "source": [
    "# Functions"
   ]
  },
  {
   "cell_type": "code",
   "execution_count": 2,
   "metadata": {
    "ExecuteTime": {
     "end_time": "2019-04-25T09:33:28.414827Z",
     "start_time": "2019-04-25T09:33:28.408911Z"
    }
   },
   "outputs": [],
   "source": [
    "PI = math.pi\n",
    "\n",
    "def fix_units(df, inplace = False):\n",
    "    \n",
    "    if not inplace:\n",
    "        ball = df.copy()\n",
    "    else:\n",
    "        ball = df\n",
    "        \n",
    "    ball.theta *= PI/180 # Degrees to Radians\n",
    "    ball.phi *= PI/180 #Degrees to Radians\n",
    "\n",
    "    ball.launch_speed *= 0.44704  # mile/h --> m/s\n",
    "    ball.side_spin /= 60/(2*PI) # rpm to rads per s\n",
    "    ball.back_spin /= 60/(2*PI) # rpm to rads per s\n",
    "    if not inplace:\n",
    "        return ball"
   ]
  },
  {
   "cell_type": "code",
   "execution_count": 3,
   "metadata": {
    "ExecuteTime": {
     "end_time": "2019-04-25T09:33:29.870052Z",
     "start_time": "2019-04-25T09:33:29.862748Z"
    }
   },
   "outputs": [],
   "source": [
    "def get_pred(input_dict, reg_carry,reg_tot_dist, reg_offline_ratio):\n",
    "    \n",
    "    mod_input = {s:[input_dict[s]] for s in input_dict}\n",
    "    df = pd.DataFrame(mod_input)\n",
    "    df.columns = [\"launch_speed\", \"theta\", \"phi\", \"side_spin\", \"back_spin\"]\n",
    "    fix_units(df, inplace = True)\n",
    "\n",
    "    df[\"cos_theta\"] = df.theta.apply(lambda x: math.cos(x))\n",
    "    df[\"sin_theta\"] = df.theta.apply(lambda x: math.sin(x))\n",
    "    df[\"tan_theta\"] = df.theta.apply(lambda x: math.tan(x))\n",
    "\n",
    "    df[\"cos_phi\"] = df.phi.apply(lambda x: math.cos(x))\n",
    "    df[\"sin_phi\"] = df.phi.apply(lambda x: math.sin(x))\n",
    "    df[\"tan_phi\"] = df.phi.apply(lambda x: math.tan(x))\n",
    "\n",
    "    cols = list(df.columns)\n",
    "    for i,col in enumerate(cols):\n",
    "        rest = cols[:i]+cols[i+1:]\n",
    "        for r_col in rest:\n",
    "            df[col+\"_\"+r_col] = df[col]*df[r_col]\n",
    "\n",
    "    return (reg_carry.predict(df), reg_tot_dist.predict(df), reg_tot_dist.predict(df)*reg_offline_ratio.predict(df))"
   ]
  },
  {
   "cell_type": "markdown",
   "metadata": {},
   "source": [
    "# Retreiving models"
   ]
  },
  {
   "cell_type": "code",
   "execution_count": 5,
   "metadata": {
    "ExecuteTime": {
     "end_time": "2019-04-25T09:34:06.879231Z",
     "start_time": "2019-04-25T09:34:05.527735Z"
    }
   },
   "outputs": [],
   "source": [
    "with open('../models/reg_carry.pkl', 'rb') as f:\n",
    "    reg_carry = pickle.load(f)\n",
    "\n",
    "with open('../models/reg_tot_dist.pkl', 'rb') as f:\n",
    "    reg_tot_dist = pickle.load(f)\n",
    "\n",
    "with open('../models/reg_offline_ratio.pkl', 'rb') as f:\n",
    "    reg_offline_ratio = pickle.load(f)"
   ]
  },
  {
   "cell_type": "markdown",
   "metadata": {},
   "source": [
    "# Sample input"
   ]
  },
  {
   "cell_type": "code",
   "execution_count": 7,
   "metadata": {
    "ExecuteTime": {
     "end_time": "2019-04-25T09:35:06.643809Z",
     "start_time": "2019-04-25T09:35:06.587931Z"
    }
   },
   "outputs": [],
   "source": [
    "data = pd.read_excel(\"all_sessions_refined.xlsx\")"
   ]
  },
  {
   "cell_type": "code",
   "execution_count": 8,
   "metadata": {
    "ExecuteTime": {
     "end_time": "2019-04-25T09:35:09.780745Z",
     "start_time": "2019-04-25T09:35:09.753969Z"
    }
   },
   "outputs": [
    {
     "data": {
      "text/html": [
       "<div>\n",
       "<style scoped>\n",
       "    .dataframe tbody tr th:only-of-type {\n",
       "        vertical-align: middle;\n",
       "    }\n",
       "\n",
       "    .dataframe tbody tr th {\n",
       "        vertical-align: top;\n",
       "    }\n",
       "\n",
       "    .dataframe thead th {\n",
       "        text-align: right;\n",
       "    }\n",
       "</style>\n",
       "<table border=\"1\" class=\"dataframe\">\n",
       "  <thead>\n",
       "    <tr style=\"text-align: right;\">\n",
       "      <th></th>\n",
       "      <th>Session</th>\n",
       "      <th>Club</th>\n",
       "      <th>Ball Speed</th>\n",
       "      <th>Launch Angle</th>\n",
       "      <th>Azimuth</th>\n",
       "      <th>Side Spin</th>\n",
       "      <th>Back Spin</th>\n",
       "      <th>Carry</th>\n",
       "      <th>Carry Offline</th>\n",
       "      <th>Total Distance</th>\n",
       "      <th>Offline</th>\n",
       "    </tr>\n",
       "  </thead>\n",
       "  <tbody>\n",
       "    <tr>\n",
       "      <th>0</th>\n",
       "      <td>2</td>\n",
       "      <td>Driver</td>\n",
       "      <td>43.3</td>\n",
       "      <td>30.2</td>\n",
       "      <td>-3.1</td>\n",
       "      <td>-6943</td>\n",
       "      <td>7471</td>\n",
       "      <td>32.95</td>\n",
       "      <td>-5.758168</td>\n",
       "      <td>37.71</td>\n",
       "      <td>-6.59</td>\n",
       "    </tr>\n",
       "    <tr>\n",
       "      <th>1</th>\n",
       "      <td>2</td>\n",
       "      <td>Driver</td>\n",
       "      <td>44.1</td>\n",
       "      <td>31.3</td>\n",
       "      <td>-1.2</td>\n",
       "      <td>-2616</td>\n",
       "      <td>8297</td>\n",
       "      <td>35.79</td>\n",
       "      <td>-2.736265</td>\n",
       "      <td>40.94</td>\n",
       "      <td>-3.13</td>\n",
       "    </tr>\n",
       "    <tr>\n",
       "      <th>2</th>\n",
       "      <td>1</td>\n",
       "      <td>4h</td>\n",
       "      <td>50.9</td>\n",
       "      <td>18.9</td>\n",
       "      <td>-1.5</td>\n",
       "      <td>210</td>\n",
       "      <td>667</td>\n",
       "      <td>36.54</td>\n",
       "      <td>-0.219139</td>\n",
       "      <td>65.03</td>\n",
       "      <td>-0.39</td>\n",
       "    </tr>\n",
       "    <tr>\n",
       "      <th>3</th>\n",
       "      <td>2</td>\n",
       "      <td>Driver</td>\n",
       "      <td>49.4</td>\n",
       "      <td>58.6</td>\n",
       "      <td>-25.1</td>\n",
       "      <td>-499</td>\n",
       "      <td>1988</td>\n",
       "      <td>37.44</td>\n",
       "      <td>-17.060597</td>\n",
       "      <td>42.53</td>\n",
       "      <td>-19.38</td>\n",
       "    </tr>\n",
       "    <tr>\n",
       "      <th>4</th>\n",
       "      <td>2</td>\n",
       "      <td>Driver</td>\n",
       "      <td>50.3</td>\n",
       "      <td>59.3</td>\n",
       "      <td>-22.3</td>\n",
       "      <td>-770</td>\n",
       "      <td>2129</td>\n",
       "      <td>37.67</td>\n",
       "      <td>-16.117733</td>\n",
       "      <td>42.56</td>\n",
       "      <td>-18.21</td>\n",
       "    </tr>\n",
       "  </tbody>\n",
       "</table>\n",
       "</div>"
      ],
      "text/plain": [
       "   Session    Club   Ball Speed   Launch Angle   Azimuth   Side Spin  \\\n",
       "0        2  Driver         43.3           30.2      -3.1       -6943   \n",
       "1        2  Driver         44.1           31.3      -1.2       -2616   \n",
       "2        1      4h         50.9           18.9      -1.5         210   \n",
       "3        2  Driver         49.4           58.6     -25.1        -499   \n",
       "4        2  Driver         50.3           59.3     -22.3        -770   \n",
       "\n",
       "    Back Spin   Carry  Carry Offline   Total Distance   Offline  \n",
       "0        7471   32.95      -5.758168            37.71     -6.59  \n",
       "1        8297   35.79      -2.736265            40.94     -3.13  \n",
       "2         667   36.54      -0.219139            65.03     -0.39  \n",
       "3        1988   37.44     -17.060597            42.53    -19.38  \n",
       "4        2129   37.67     -16.117733            42.56    -18.21  "
      ]
     },
     "execution_count": 8,
     "metadata": {},
     "output_type": "execute_result"
    }
   ],
   "source": [
    "data.head()"
   ]
  },
  {
   "cell_type": "code",
   "execution_count": 9,
   "metadata": {
    "ExecuteTime": {
     "end_time": "2019-04-25T09:35:10.677168Z",
     "start_time": "2019-04-25T09:35:10.672309Z"
    }
   },
   "outputs": [],
   "source": [
    "data.columns = [\"session\", \"club\", \"ball_speed\", \"launch_angle\", \"azimuth\", \"side_spin\", \n",
    "                \"back_spin\", \"carry\", \"carry_offline\", \"tot_dist\", \"offline\"]"
   ]
  },
  {
   "cell_type": "code",
   "execution_count": 10,
   "metadata": {
    "ExecuteTime": {
     "end_time": "2019-04-25T09:35:11.130934Z",
     "start_time": "2019-04-25T09:35:11.123335Z"
    }
   },
   "outputs": [],
   "source": [
    "samp_input = data.iloc[0,:][[\"ball_speed\", \"launch_angle\", \"azimuth\", \"side_spin\", \"back_spin\"]].to_dict()"
   ]
  },
  {
   "cell_type": "code",
   "execution_count": 11,
   "metadata": {
    "ExecuteTime": {
     "end_time": "2019-04-25T09:35:11.567561Z",
     "start_time": "2019-04-25T09:35:11.555813Z"
    }
   },
   "outputs": [
    {
     "data": {
      "text/plain": [
       "{'ball_speed': 43.3,\n",
       " 'launch_angle': 30.2,\n",
       " 'azimuth': -3.1,\n",
       " 'side_spin': -6943,\n",
       " 'back_spin': 7471}"
      ]
     },
     "execution_count": 11,
     "metadata": {},
     "output_type": "execute_result"
    }
   ],
   "source": [
    "samp_input"
   ]
  },
  {
   "cell_type": "markdown",
   "metadata": {},
   "source": [
    "# Prediction"
   ]
  },
  {
   "cell_type": "code",
   "execution_count": 12,
   "metadata": {
    "ExecuteTime": {
     "end_time": "2019-04-25T09:35:14.552144Z",
     "start_time": "2019-04-25T09:35:14.456794Z"
    }
   },
   "outputs": [],
   "source": [
    "carry_pred, tot_dist_pred, offline_pred = get_pred(samp_input, reg_carry,reg_tot_dist, reg_offline_ratio)"
   ]
  },
  {
   "cell_type": "code",
   "execution_count": 13,
   "metadata": {
    "ExecuteTime": {
     "end_time": "2019-04-25T09:35:15.245344Z",
     "start_time": "2019-04-25T09:35:15.239897Z"
    }
   },
   "outputs": [
    {
     "name": "stdout",
     "output_type": "stream",
     "text": [
      "carry_pred: [33.01037759]\n",
      "tot_dist_pred: [38.4794839]\n",
      "offline_pred: [-7.1789683]\n"
     ]
    }
   ],
   "source": [
    "print(\"carry_pred:\",carry_pred)\n",
    "print(\"tot_dist_pred:\",tot_dist_pred)\n",
    "print(\"offline_pred:\",offline_pred)"
   ]
  },
  {
   "cell_type": "code",
   "execution_count": 14,
   "metadata": {
    "ExecuteTime": {
     "end_time": "2019-04-25T09:35:15.955251Z",
     "start_time": "2019-04-25T09:35:15.948331Z"
    }
   },
   "outputs": [
    {
     "data": {
      "text/plain": [
       "carry       32.95\n",
       "tot_dist    37.71\n",
       "offline     -6.59\n",
       "Name: 0, dtype: object"
      ]
     },
     "execution_count": 14,
     "metadata": {},
     "output_type": "execute_result"
    }
   ],
   "source": [
    "data.iloc[0,:][[\"carry\",\"tot_dist\",\"offline\"]]"
   ]
  },
  {
   "cell_type": "code",
   "execution_count": null,
   "metadata": {},
   "outputs": [],
   "source": []
  }
 ],
 "metadata": {
  "kernelspec": {
   "display_name": "Python 3",
   "language": "python",
   "name": "python3"
  },
  "language_info": {
   "codemirror_mode": {
    "name": "ipython",
    "version": 3
   },
   "file_extension": ".py",
   "mimetype": "text/x-python",
   "name": "python",
   "nbconvert_exporter": "python",
   "pygments_lexer": "ipython3",
   "version": "3.6.8"
  },
  "toc": {
   "base_numbering": 1,
   "nav_menu": {},
   "number_sections": true,
   "sideBar": true,
   "skip_h1_title": false,
   "title_cell": "Table of Contents",
   "title_sidebar": "Contents",
   "toc_cell": false,
   "toc_position": {},
   "toc_section_display": true,
   "toc_window_display": false
  }
 },
 "nbformat": 4,
 "nbformat_minor": 2
}
