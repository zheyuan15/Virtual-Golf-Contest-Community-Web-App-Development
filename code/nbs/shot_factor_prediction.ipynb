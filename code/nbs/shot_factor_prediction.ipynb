{
 "cells": [
  {
   "cell_type": "code",
   "execution_count": 1,
   "metadata": {
    "ExecuteTime": {
     "end_time": "2019-05-06T07:32:50.663784Z",
     "start_time": "2019-05-06T07:32:49.487487Z"
    }
   },
   "outputs": [],
   "source": [
    "import pandas as pd\n",
    "import numpy as np\n",
    "import math\n",
    "import pickle\n",
    "from sklearn.linear_model import LinearRegression\n",
    "from sklearn.model_selection import train_test_split\n",
    "from sklearn.metrics import mean_squared_error, r2_score"
   ]
  },
  {
   "cell_type": "markdown",
   "metadata": {},
   "source": [
    "# Functions"
   ]
  },
  {
   "cell_type": "code",
   "execution_count": 26,
   "metadata": {
    "ExecuteTime": {
     "end_time": "2019-05-06T07:42:23.526939Z",
     "start_time": "2019-05-06T07:42:23.509289Z"
    }
   },
   "outputs": [],
   "source": [
    "def get_shot_factors(input_dict, reg_ball_speed, reg_launch_angle, reg_azimuth, reg_side_spin, reg_back_spin):\n",
    "    \n",
    "    cols = ['width_coeff', 'x_coeff', 'y_coeff', 'flight_length', 'width_half_coeff',\n",
    "            'x_half_coeff', 'y_half_coeff', 'width_sc', 'x_sc', 'y_sc']\n",
    "    mod_input = {col:[input_dict[col]] for col in cols}\n",
    "    df = pd.DataFrame(mod_input)\n",
    "    df.columns = cols\n",
    "    \n",
    "    df2 = df.copy()\n",
    "    df2['x_y_coeff'] = np.sqrt(df2['x_coeff']**2+df2['y_coeff']**2)\n",
    "\n",
    "    df2['x_y_half_coeff'] = np.sqrt(df2['x_half_coeff']**2+df2['y_half_coeff']**2)\n",
    "\n",
    "    cols = [c for c in df2.columns if c not in [\"shot_no\",\"ball_speed\",\"launch_angle\",\n",
    "                                                \"azimuth\",\"side_spin\",\"back_spin\"]]\n",
    "\n",
    "    col = 'flight_length'\n",
    "    i = cols.index(col)\n",
    "    rest = cols[:i]+cols[i+1:]\n",
    "    for r_col in rest:\n",
    "            df2[col+\"_\"+r_col] = df2[col]*df2[r_col]\n",
    "    \n",
    "    df2 = df2[['x_coeff', 'flight_length', 'x_half_coeff', 'width_sc', 'y_sc',\n",
    "               'x_y_coeff', 'flight_length_x_coeff', 'flight_length_y_coeff',\n",
    "               'flight_length_y_half_coeff', 'flight_length_y_sc',\n",
    "               'flight_length_x_y_coeff', 'flight_length_x_y_half_coeff']]\n",
    "    \n",
    "    return {\"ball_speed\" : reg_ball_speed.predict(df)[0],\n",
    "            \"launch_angle\" : reg_launch_angle.predict(df)[0],\n",
    "            \"azimuth\" : reg_azimuth.predict(df)[0],\n",
    "            \"side_spin\" : reg_side_spin.predict(df2)[0],\n",
    "            \"back_spin\" : reg_back_spin.predict(df)[0]}"
   ]
  },
  {
   "cell_type": "markdown",
   "metadata": {},
   "source": [
    "# Retreiving models"
   ]
  },
  {
   "cell_type": "code",
   "execution_count": 27,
   "metadata": {
    "ExecuteTime": {
     "end_time": "2019-05-06T07:42:24.271179Z",
     "start_time": "2019-05-06T07:42:24.259086Z"
    }
   },
   "outputs": [],
   "source": [
    "with open('../models/reg_ball_speed.pkl', 'rb') as f:\n",
    "    reg_ball_speed = pickle.load(f)\n",
    "\n",
    "with open('../models/reg_launch_angle.pkl', 'rb') as f:\n",
    "    reg_launch_angle = pickle.load(f)\n",
    "\n",
    "with open('../models/reg_azimuth.pkl', 'rb') as f:\n",
    "    reg_azimuth = pickle.load(f)\n",
    "    \n",
    "with open('../models/reg_back_spin.pkl', 'rb') as f:\n",
    "    reg_back_spin = pickle.load(f)\n",
    "    \n",
    "with open('../models/reg_side_spin.pkl', 'rb') as f:\n",
    "    reg_side_spin = pickle.load(f)"
   ]
  },
  {
   "cell_type": "markdown",
   "metadata": {},
   "source": [
    "# Sample Input"
   ]
  },
  {
   "cell_type": "code",
   "execution_count": 28,
   "metadata": {
    "ExecuteTime": {
     "end_time": "2019-05-06T07:42:24.982921Z",
     "start_time": "2019-05-06T07:42:24.962668Z"
    }
   },
   "outputs": [],
   "source": [
    "data = pd.read_csv(\"shot_factors_features.csv\")"
   ]
  },
  {
   "cell_type": "code",
   "execution_count": 29,
   "metadata": {
    "ExecuteTime": {
     "end_time": "2019-05-06T07:42:25.399745Z",
     "start_time": "2019-05-06T07:42:25.391848Z"
    }
   },
   "outputs": [],
   "source": [
    "data2 = data[[c for c in data.columns if c not in [\"shot_no\",\"ball_speed\",\"launch_angle\",\n",
    "                                               \"azimuth\",\"side_spin\",\"back_spin\"]]]"
   ]
  },
  {
   "cell_type": "code",
   "execution_count": 30,
   "metadata": {
    "ExecuteTime": {
     "end_time": "2019-05-06T07:42:25.772594Z",
     "start_time": "2019-05-06T07:42:25.767359Z"
    }
   },
   "outputs": [],
   "source": [
    "data_point = data2.iloc[0].to_dict()"
   ]
  },
  {
   "cell_type": "code",
   "execution_count": 31,
   "metadata": {
    "ExecuteTime": {
     "end_time": "2019-05-06T07:42:26.106226Z",
     "start_time": "2019-05-06T07:42:26.096272Z"
    }
   },
   "outputs": [
    {
     "data": {
      "text/plain": [
       "{'width_coeff': -0.0553412766754512,\n",
       " 'x_coeff': -0.01298389133389271,\n",
       " 'y_coeff': -0.07035135525842252,\n",
       " 'flight_length': 10.0,\n",
       " 'width_half_coeff': -0.0891270363562683,\n",
       " 'x_half_coeff': -0.010350477173429516,\n",
       " 'y_half_coeff': -0.08079645046603966,\n",
       " 'width_sc': 0.21421487552599025,\n",
       " 'x_sc': 0.7705521932710807,\n",
       " 'y_sc': -0.3209023197228837}"
      ]
     },
     "execution_count": 31,
     "metadata": {},
     "output_type": "execute_result"
    }
   ],
   "source": [
    "data_point"
   ]
  },
  {
   "cell_type": "markdown",
   "metadata": {},
   "source": [
    "# Prediction"
   ]
  },
  {
   "cell_type": "code",
   "execution_count": 32,
   "metadata": {
    "ExecuteTime": {
     "end_time": "2019-05-06T07:42:27.667794Z",
     "start_time": "2019-05-06T07:42:27.634536Z"
    }
   },
   "outputs": [],
   "source": [
    "shot_factors = get_shot_factors(data_point, reg_ball_speed, reg_launch_angle,\n",
    "                                reg_azimuth, reg_side_spin, reg_back_spin)"
   ]
  },
  {
   "cell_type": "code",
   "execution_count": 33,
   "metadata": {
    "ExecuteTime": {
     "end_time": "2019-05-06T07:42:28.089033Z",
     "start_time": "2019-05-06T07:42:28.078934Z"
    }
   },
   "outputs": [
    {
     "data": {
      "text/plain": [
       "{'ball_speed': 79.69344911145016,\n",
       " 'launch_angle': 37.76465045992494,\n",
       " 'azimuth': -6.721174521721162,\n",
       " 'side_spin': -781.1045876745029,\n",
       " 'back_spin': 5784.022628852465}"
      ]
     },
     "execution_count": 33,
     "metadata": {},
     "output_type": "execute_result"
    }
   ],
   "source": [
    "shot_factors"
   ]
  },
  {
   "cell_type": "code",
   "execution_count": 34,
   "metadata": {
    "ExecuteTime": {
     "end_time": "2019-05-06T07:42:30.118066Z",
     "start_time": "2019-05-06T07:42:30.098979Z"
    }
   },
   "outputs": [
    {
     "data": {
      "text/plain": [
       "ball_speed        78.3\n",
       "launch_angle      38.3\n",
       "azimuth           -6.5\n",
       "side_spin       -208.0\n",
       "back_spin       6631.0\n",
       "Name: 0, dtype: float64"
      ]
     },
     "execution_count": 34,
     "metadata": {},
     "output_type": "execute_result"
    }
   ],
   "source": [
    "data.iloc[0,:][[\"ball_speed\",\"launch_angle\",\"azimuth\",\"side_spin\",\"back_spin\"]]"
   ]
  },
  {
   "cell_type": "code",
   "execution_count": null,
   "metadata": {},
   "outputs": [],
   "source": []
  }
 ],
 "metadata": {
  "kernelspec": {
   "display_name": "Python 3",
   "language": "python",
   "name": "python3"
  },
  "language_info": {
   "codemirror_mode": {
    "name": "ipython",
    "version": 3
   },
   "file_extension": ".py",
   "mimetype": "text/x-python",
   "name": "python",
   "nbconvert_exporter": "python",
   "pygments_lexer": "ipython3",
   "version": "3.6.8"
  },
  "toc": {
   "base_numbering": 1,
   "nav_menu": {},
   "number_sections": true,
   "sideBar": true,
   "skip_h1_title": false,
   "title_cell": "Table of Contents",
   "title_sidebar": "Contents",
   "toc_cell": false,
   "toc_position": {},
   "toc_section_display": true,
   "toc_window_display": false
  }
 },
 "nbformat": 4,
 "nbformat_minor": 2
}
